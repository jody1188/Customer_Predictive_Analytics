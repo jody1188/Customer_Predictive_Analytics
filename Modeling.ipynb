{
 "cells": [
  {
   "cell_type": "markdown",
   "id": "09103a9d",
   "metadata": {},
   "source": [
    "### Import Module"
   ]
  },
  {
   "cell_type": "code",
   "execution_count": 1,
   "id": "75bca150",
   "metadata": {},
   "outputs": [],
   "source": [
    "import pandas as pd\n",
    "import numpy as np\n",
    "import matplotlib.pyplot as plt\n",
    "%matplotlib inline\n",
    "plt.rc('font',family='Malgun Gothic')\n",
    "\n",
    "import warnings\n",
    "warnings.filterwarnings(\"ignore\")\n",
    "\n",
    "from sklearn.linear_model import LogisticRegression\n",
    "from sklearn.neighbors import KNeighborsClassifier\n",
    "from sklearn.svm import LinearSVC\n",
    "from sklearn.tree import DecisionTreeClassifier\n",
    "import xgboost as xgb\n",
    "from xgboost import XGBClassifier\n",
    "from lightgbm import LGBMClassifier\n",
    "from sklearn.dummy import DummyClassifier\n",
    "from sklearn.neighbors import KNeighborsClassifier\n",
    "from sklearn.ensemble import RandomForestClassifier\n",
    "from sklearn.ensemble import AdaBoostClassifier\n",
    "from sklearn.neural_network import MLPClassifier\n",
    "from sklearn.ensemble import GradientBoostingClassifier\n",
    "from sklearn.ensemble import ExtraTreesClassifier\n",
    "from sklearn.svm import SVC\n",
    "\n",
    "from sklearn.model_selection import train_test_split\n",
    "from sklearn.model_selection import KFold\n",
    "from sklearn.model_selection import StratifiedKFold\n",
    "\n",
    "from sklearn.metrics import log_loss\n",
    "from sklearn.model_selection import cross_val_score\n",
    "\n",
    "from sklearn.model_selection import GridSearchCV\n",
    "from sklearn.model_selection import RandomizedSearchCV\n",
    "from bayes_opt import BayesianOptimization\n",
    "from sklearn.ensemble import VotingClassifier\n",
    "from sklearn.ensemble import StackingClassifier\n",
    "\n",
    "from sklearn.preprocessing import PowerTransformer\n",
    "\n",
    "from sklearn.feature_selection import SelectPercentile\n",
    "\n",
    "import klib\n",
    "\n",
    "import os\n",
    "import time\n",
    "import random\n",
    "import warnings; warnings.filterwarnings(\"ignore\")\n",
    "from IPython.display import Image\n",
    "import pickle\n",
    "from tqdm import tqdm\n",
    "import platform\n",
    "from itertools import combinations\n",
    "from scipy.stats.mstats import gmean\n",
    "\n",
    "from sklearn.base import ClassifierMixin\n",
    "from sklearn.decomposition import PCA"
   ]
  },
  {
   "cell_type": "code",
   "execution_count": 2,
   "id": "46590718",
   "metadata": {},
   "outputs": [],
   "source": [
    "data = pd.read_csv('/Users/jody/Downloads/code/11_15/data.csv' , encoding='cp949')\n",
    "cust_tr = data.CLNT_ID\n",
    "\n",
    "data_te = pd.read_csv('/Users/jody/Downloads/code/11_15/data_te.csv' , encoding='cp949')\n",
    "cust_te = data_te.CLNT_ID "
   ]
  },
  {
   "cell_type": "code",
   "execution_count": 3,
   "id": "548b99e8",
   "metadata": {},
   "outputs": [],
   "source": [
    "X_train = pd.read_csv('/Users/jody/Downloads/code/11_15/train.csv' , encoding='cp949').drop(columns='Unnamed: 0', axis=1)\n",
    "X_test = pd.read_csv('/Users/jody/Downloads/code/11_15/test.csv' , encoding='cp949').drop(columns='Unnamed: 0', axis=1)\n",
    "\n",
    "y_target =  pd.read_csv('y_train.csv').LABEL"
   ]
  },
  {
   "cell_type": "code",
   "execution_count": 4,
   "id": "eb8accd3",
   "metadata": {},
   "outputs": [
    {
     "name": "stdout",
     "output_type": "stream",
     "text": [
      "No missing values found in the dataset.\n"
     ]
    }
   ],
   "source": [
    "klib.missingval_plot(X_train)"
   ]
  },
  {
   "cell_type": "code",
   "execution_count": 5,
   "id": "8d7af67c",
   "metadata": {},
   "outputs": [
    {
     "name": "stdout",
     "output_type": "stream",
     "text": [
      "No missing values found in the dataset.\n"
     ]
    }
   ],
   "source": [
    "klib.missingval_plot(X_test)"
   ]
  },
  {
   "cell_type": "markdown",
   "id": "6b41227e",
   "metadata": {},
   "source": [
    "### Data Split"
   ]
  },
  {
   "cell_type": "code",
   "execution_count": 6,
   "id": "de3118a1",
   "metadata": {},
   "outputs": [],
   "source": [
    "X_train, X_dev, y_train, y_dev = train_test_split(X_train, y_target, test_size=0.3, stratify = y_target, random_state=0)"
   ]
  },
  {
   "cell_type": "code",
   "execution_count": 7,
   "id": "e7c276b8",
   "metadata": {},
   "outputs": [
    {
     "data": {
      "text/plain": [
       "((105000, 581), (45000, 581), (105000,), (45000,))"
      ]
     },
     "execution_count": 7,
     "metadata": {},
     "output_type": "execute_result"
    }
   ],
   "source": [
    "X_train.shape, X_dev.shape, y_train.shape, y_dev.shape"
   ]
  },
  {
   "cell_type": "code",
   "execution_count": 24,
   "id": "4b81cefe",
   "metadata": {},
   "outputs": [],
   "source": [
    "seed = 0\n",
    "skf = StratifiedKFold(n_splits=5, shuffle=True, random_state=seed)\n",
    "models = []"
   ]
  },
  {
   "cell_type": "markdown",
   "id": "92674631",
   "metadata": {},
   "source": [
    "## Modeling"
   ]
  },
  {
   "cell_type": "markdown",
   "id": "a923ceaf",
   "metadata": {},
   "source": [
    "### RandomForest"
   ]
  },
  {
   "cell_type": "code",
   "execution_count": 25,
   "id": "c76939e2",
   "metadata": {},
   "outputs": [],
   "source": [
    "pbounds = { 'n_estimators': (100,500),\n",
    "            'max_depth': (10,31), \n",
    "            'max_features': (0.8,0.99),\n",
    "            'min_samples_leaf': (1, 10)}\n",
    "\n",
    "def rf_opt(n_estimators, max_depth, max_features, min_samples_leaf):\n",
    "    \n",
    "    params = {\n",
    "        'n_estimators' : int(round(n_estimators)),\n",
    "        'max_depth' : int(round(max_depth)),\n",
    "        'min_samples_leaf' : int(round(min_samples_leaf))\n",
    "    }\n",
    "\n",
    "    rf = RandomForestClassifier(**params, n_jobs=-1, random_state=seed)\n",
    "    score = cross_val_score(rf, X_train, y_train, scoring='neg_log_loss', cv=skf, n_jobs=-1)\n",
    "    \n",
    "    return np.mean(score)\n",
    "\n",
    "\n",
    "BO_rf = BayesianOptimization(f = rf_opt, pbounds = pbounds, random_state=seed)"
   ]
  },
  {
   "cell_type": "code",
   "execution_count": 26,
   "id": "ba9c3db7",
   "metadata": {
    "scrolled": false
   },
   "outputs": [
    {
     "name": "stdout",
     "output_type": "stream",
     "text": [
      "|   iter    |  target   | max_depth | max_fe... | min_sa... | n_esti... |\n",
      "-------------------------------------------------------------------------\n",
      "| \u001b[0m 1       \u001b[0m | \u001b[0m-1.292   \u001b[0m | \u001b[0m 21.53   \u001b[0m | \u001b[0m 0.9359  \u001b[0m | \u001b[0m 6.425   \u001b[0m | \u001b[0m 318.0   \u001b[0m |\n",
      "| \u001b[95m 2       \u001b[0m | \u001b[95m-1.29    \u001b[0m | \u001b[95m 18.9    \u001b[0m | \u001b[95m 0.9227  \u001b[0m | \u001b[95m 4.938   \u001b[0m | \u001b[95m 456.7   \u001b[0m |\n",
      "| \u001b[0m 3       \u001b[0m | \u001b[0m-1.295   \u001b[0m | \u001b[0m 30.24   \u001b[0m | \u001b[0m 0.8729  \u001b[0m | \u001b[0m 8.126   \u001b[0m | \u001b[0m 311.6   \u001b[0m |\n",
      "| \u001b[0m 4       \u001b[0m | \u001b[0m-1.306   \u001b[0m | \u001b[0m 21.93   \u001b[0m | \u001b[0m 0.9759  \u001b[0m | \u001b[0m 1.639   \u001b[0m | \u001b[0m 134.9   \u001b[0m |\n",
      "| \u001b[0m 5       \u001b[0m | \u001b[0m-1.301   \u001b[0m | \u001b[0m 10.42   \u001b[0m | \u001b[0m 0.9582  \u001b[0m | \u001b[0m 8.003   \u001b[0m | \u001b[0m 448.0   \u001b[0m |\n",
      "| \u001b[0m 6       \u001b[0m | \u001b[0m-1.293   \u001b[0m | \u001b[0m 19.58   \u001b[0m | \u001b[0m 0.8425  \u001b[0m | \u001b[0m 2.639   \u001b[0m | \u001b[0m 458.4   \u001b[0m |\n",
      "| \u001b[95m 7       \u001b[0m | \u001b[95m-1.289   \u001b[0m | \u001b[95m 22.57   \u001b[0m | \u001b[95m 0.9072  \u001b[0m | \u001b[95m 9.188   \u001b[0m | \u001b[95m 455.8   \u001b[0m |\n",
      "| \u001b[95m 8       \u001b[0m | \u001b[95m-1.287   \u001b[0m | \u001b[95m 17.5    \u001b[0m | \u001b[95m 0.8344  \u001b[0m | \u001b[95m 9.958   \u001b[0m | \u001b[95m 460.4   \u001b[0m |\n",
      "| \u001b[0m 9       \u001b[0m | \u001b[0m-1.291   \u001b[0m | \u001b[0m 12.75   \u001b[0m | \u001b[0m 0.8322  \u001b[0m | \u001b[0m 9.026   \u001b[0m | \u001b[0m 469.6   \u001b[0m |\n",
      "| \u001b[0m 10      \u001b[0m | \u001b[0m-1.29    \u001b[0m | \u001b[0m 24.51   \u001b[0m | \u001b[0m 0.854   \u001b[0m | \u001b[0m 9.596   \u001b[0m | \u001b[0m 470.1   \u001b[0m |\n",
      "| \u001b[0m 11      \u001b[0m | \u001b[0m-1.289   \u001b[0m | \u001b[0m 22.79   \u001b[0m | \u001b[0m 0.989   \u001b[0m | \u001b[0m 9.691   \u001b[0m | \u001b[0m 482.5   \u001b[0m |\n",
      "| \u001b[0m 12      \u001b[0m | \u001b[0m-1.32    \u001b[0m | \u001b[0m 30.72   \u001b[0m | \u001b[0m 0.9404  \u001b[0m | \u001b[0m 2.409   \u001b[0m | \u001b[0m 480.7   \u001b[0m |\n",
      "| \u001b[0m 13      \u001b[0m | \u001b[0m-1.29    \u001b[0m | \u001b[0m 14.33   \u001b[0m | \u001b[0m 0.99    \u001b[0m | \u001b[0m 10.0    \u001b[0m | \u001b[0m 482.1   \u001b[0m |\n",
      "| \u001b[0m 14      \u001b[0m | \u001b[0m-1.287   \u001b[0m | \u001b[0m 17.07   \u001b[0m | \u001b[0m 0.9511  \u001b[0m | \u001b[0m 9.596   \u001b[0m | \u001b[0m 492.6   \u001b[0m |\n",
      "| \u001b[0m 15      \u001b[0m | \u001b[0m-1.301   \u001b[0m | \u001b[0m 10.0    \u001b[0m | \u001b[0m 0.817   \u001b[0m | \u001b[0m 2.034   \u001b[0m | \u001b[0m 493.4   \u001b[0m |\n",
      "=========================================================================\n"
     ]
    }
   ],
   "source": [
    "BO_rf.maximize(init_points=5, n_iter=10)"
   ]
  },
  {
   "cell_type": "code",
   "execution_count": 27,
   "id": "85533407",
   "metadata": {},
   "outputs": [
    {
     "data": {
      "text/plain": [
       "{'target': -1.2869782559214826,\n",
       " 'params': {'max_depth': 17.49706140199854,\n",
       "  'max_features': 0.8344093325309263,\n",
       "  'min_samples_leaf': 9.95841332528359,\n",
       "  'n_estimators': 460.37562757702636}}"
      ]
     },
     "execution_count": 27,
     "metadata": {},
     "output_type": "execute_result"
    }
   ],
   "source": [
    "BO_rf.max"
   ]
  },
  {
   "cell_type": "code",
   "execution_count": 28,
   "id": "a9911f8b",
   "metadata": {},
   "outputs": [
    {
     "data": {
      "text/plain": [
       "{'max_depth': 17,\n",
       " 'max_features': 0.8344093325309263,\n",
       " 'min_samples_leaf': 10,\n",
       " 'n_estimators': 460}"
      ]
     },
     "execution_count": 28,
     "metadata": {},
     "output_type": "execute_result"
    }
   ],
   "source": [
    "max_params = BO_rf.max['params']\n",
    "\n",
    "max_params['n_estimators'] = int(round(max_params['n_estimators']))\n",
    "max_params['max_depth'] = int(round(max_params['max_depth']))\n",
    "max_params['min_samples_leaf'] = int(round(max_params['min_samples_leaf']))\n",
    "\n",
    "max_params"
   ]
  },
  {
   "cell_type": "code",
   "execution_count": 29,
   "id": "d0160f7b",
   "metadata": {},
   "outputs": [
    {
     "name": "stdout",
     "output_type": "stream",
     "text": [
      "[-1.28713265 -1.28221271 -1.28933151 -1.28417528 -1.28511298]\n",
      "최대성능: -1.2822127099628977\n",
      "평균성능: -1.2855930254235948\n"
     ]
    }
   ],
   "source": [
    "rf_clf = RandomForestClassifier(**max_params,  n_jobs=-1, random_state=seed)\n",
    "\n",
    "scores = cross_val_score(rf_clf, X_train, y_train, scoring='neg_log_loss', cv=skf, n_jobs=-1)\n",
    "\n",
    "print(scores)\n",
    "print(f'최대성능: {max(scores)}\\n평균성능: {np.mean(scores)}')\n",
    "\n",
    "models.append(rf_clf)"
   ]
  },
  {
   "cell_type": "markdown",
   "id": "5aca78ad",
   "metadata": {},
   "source": [
    "### ExtraTrees"
   ]
  },
  {
   "cell_type": "code",
   "execution_count": 30,
   "id": "0c80808e",
   "metadata": {},
   "outputs": [],
   "source": [
    "pbounds = { 'n_estimators': (50, 500),\n",
    "            'max_depth': (10,35),    \n",
    "            'max_features': (0.8,0.95),\n",
    "            'min_samples_split': (2, 5),\n",
    "            'min_samples_leaf': (5, 10)\n",
    "            }\n",
    "\n",
    "def extra_opt(n_estimators, max_depth, max_features, min_samples_split, min_samples_leaf):\n",
    "\n",
    "    params = {\n",
    "        'n_estimators': int(round(n_estimators)),\n",
    "        'max_depth': int(round(max_depth)),\n",
    "        'max_features' : max_features,\n",
    "        'min_samples_leaf': int(round(min_samples_leaf)),\n",
    "        'min_samples_split': int(round(min_samples_split)),\n",
    "        'n_jobs' : -1\n",
    "    }\n",
    "    \n",
    "    extra = ExtraTreesClassifier(bootstrap = True, oob_score=True, **params)\n",
    "    score = cross_val_score(extra, X_train, y_train, scoring='neg_log_loss', cv=skf, n_jobs=-1)\n",
    "    \n",
    "    return np.mean(score)\n",
    "\n",
    "BO_extra = BayesianOptimization(f = extra_opt, pbounds = pbounds, random_state=seed) "
   ]
  },
  {
   "cell_type": "code",
   "execution_count": null,
   "id": "462e955a",
   "metadata": {},
   "outputs": [],
   "source": [
    "BO_extra.maximize(init_points=5, n_iter=10)"
   ]
  },
  {
   "cell_type": "code",
   "execution_count": null,
   "id": "997cc5c6",
   "metadata": {},
   "outputs": [],
   "source": [
    "BO_extra.max"
   ]
  },
  {
   "cell_type": "code",
   "execution_count": null,
   "id": "a550bb65",
   "metadata": {},
   "outputs": [],
   "source": [
    "max_params = BO_extra.max['params']\n",
    "\n",
    "max_params['n_estimators'] = int(round(max_params['n_estimators']))\n",
    "max_params['max_depth'] = int(round(max_params['max_depth']))\n",
    "max_params['min_samples_leaf'] = int(round(max_params['min_samples_leaf']))\n",
    "max_params['min_samples_split'] = int(round(max_params['min_samples_split']))\n",
    "\n",
    "max_params"
   ]
  },
  {
   "cell_type": "code",
   "execution_count": null,
   "id": "2559e7ae",
   "metadata": {},
   "outputs": [],
   "source": [
    "extra_clf = ExtraTreesClassifier(bootstrap = True, oob_score=True, **max_params)\n",
    "\n",
    "scores = cross_val_score(extra_clf, X_train, y_train, scoring='neg_log_loss', cv=skf, n_jobs=-1)\n",
    "\n",
    "print(scores)\n",
    "print(f'최대성능: {max(scores)}\\n평균성능: {np.mean(scores)}')\n",
    "\n",
    "models.append(extra_clf)"
   ]
  },
  {
   "cell_type": "markdown",
   "id": "7d4436d8",
   "metadata": {},
   "source": [
    "### Lgbm"
   ]
  },
  {
   "cell_type": "code",
   "execution_count": null,
   "id": "ad4d854c",
   "metadata": {},
   "outputs": [],
   "source": [
    "pbounds = { 'learning_rate': (0.01, 0.1),\n",
    "            'n_estimators': (100, 1000),\n",
    "            'max_depth': (11,35),   \n",
    "            'subsample': (0.7,0.9), \n",
    "            'colsample_bytree': (0.7,0.9),   \n",
    "            'num_leaves': (8,128,256,512),\n",
    "            'min_child_weight': (1, 7)\n",
    "          }\n",
    "\n",
    "\n",
    "def lgbm_opt(learning_rate, n_estimators, max_depth, subsample, colsample_bytree, num_leaves, min_child_weight):\n",
    "\n",
    "    params = {\n",
    "        'learning_rate': learning_rate,\n",
    "        'n_estimators' : int(round(n_estimators)),\n",
    "        'max_depth' : int(round(max_depth)),\n",
    "        'subsample': subsample,\n",
    "        'colsample_bytree' : colsample_bytree,\n",
    "        'num_leaves' : int(round(num_leaves)),\n",
    "        'min_child_weight' : min_child_weight,\n",
    "        'n_jobs' : -1\n",
    "    }\n",
    "    \n",
    "    lgbm = LGBMClassifier(**params, random_state=seed)\n",
    "    \n",
    "    skf = StratifiedKFold(n_splits=4 , shuffle=True, random_state=seed)\n",
    "\n",
    "    score = cross_val_score(lgbm, X_train, y_train, scoring='neg_log_loss', cv=skf, n_jobs=-1)\n",
    "    \n",
    "    return np.mean(score)\n",
    "\n",
    "BO_lgbm = BayesianOptimization(f = lgbm_opt, pbounds = pbounds, random_state=seed) "
   ]
  },
  {
   "cell_type": "code",
   "execution_count": null,
   "id": "56375141",
   "metadata": {
    "scrolled": false
   },
   "outputs": [],
   "source": [
    "BO_lgbm.maximize(init_points=5, n_iter=15)"
   ]
  },
  {
   "cell_type": "code",
   "execution_count": null,
   "id": "218c540e",
   "metadata": {},
   "outputs": [],
   "source": [
    "BO_lgbm.max"
   ]
  },
  {
   "cell_type": "code",
   "execution_count": null,
   "id": "a4019970",
   "metadata": {},
   "outputs": [],
   "source": [
    "max_params = BO_lgbm.max['params']\n",
    "\n",
    "max_params['n_estimators'] = int(round(max_params['n_estimators']))\n",
    "max_params['max_depth'] = int(round(max_params['max_depth']))\n",
    "max_params['num_leaves'] = int(round(max_params['num_leaves']))\n",
    "\n",
    "max_params"
   ]
  },
  {
   "cell_type": "code",
   "execution_count": null,
   "id": "f8b9337d",
   "metadata": {},
   "outputs": [],
   "source": [
    "lgbm_clf = LGBMClassifier(**max_params, random_state=seed)\n",
    "\n",
    "scores = cross_val_score(lgbm_clf, X_train, y_train, scoring='neg_log_loss', cv=skf, n_jobs=-1)\n",
    "\n",
    "print(scores)\n",
    "print(f'최대성능: {max(scores)}\\n평균성능: {np.mean(scores)}')\n",
    "\n",
    "models.append(lgbm_clf)"
   ]
  },
  {
   "cell_type": "markdown",
   "id": "02fba372",
   "metadata": {},
   "source": [
    "### Logistic Regression"
   ]
  },
  {
   "cell_type": "code",
   "execution_count": null,
   "id": "813450c8",
   "metadata": {},
   "outputs": [],
   "source": [
    "pbounds = { 'C': (0.01,1)}\n",
    "\n",
    "def lr_opt(C):    \n",
    "    params = {'C' : C}\n",
    "    lr= LogisticRegression(**params, n_jobs=-1, random_state=seed)      \n",
    "    score = cross_val_score(lr, X_train, y_train, scoring='neg_log_loss', cv=skf, n_jobs=-1)    \n",
    "    return np.mean(score)\n",
    "\n",
    "BO_lr = BayesianOptimization(f = lr_opt, pbounds = pbounds, random_state=seed)"
   ]
  },
  {
   "cell_type": "code",
   "execution_count": null,
   "id": "5143f064",
   "metadata": {},
   "outputs": [],
   "source": [
    "BO_lr.maximize(init_points=5, n_iter=10)"
   ]
  },
  {
   "cell_type": "code",
   "execution_count": null,
   "id": "f87b343b",
   "metadata": {},
   "outputs": [],
   "source": [
    "BO_lr.max"
   ]
  },
  {
   "cell_type": "code",
   "execution_count": null,
   "id": "13a4aa18",
   "metadata": {},
   "outputs": [],
   "source": [
    "max_params = BO_lr.max['params']\n",
    "\n",
    "max_params"
   ]
  },
  {
   "cell_type": "code",
   "execution_count": null,
   "id": "5f92f826",
   "metadata": {},
   "outputs": [],
   "source": [
    "lr_clf = LogisticRegression(**max_params,  n_jobs=-1, random_state=seed)\n",
    "scores = cross_val_score(lr_clf, X_train, y_train, scoring='neg_log_loss', cv=skf, n_jobs=-1)\n",
    "\n",
    "print(scores)\n",
    "print(f'최대성능: {max(scores)}\\n평균성능: {np.mean(scores)}')\n",
    "\n",
    "models.append(lr_clf)"
   ]
  },
  {
   "cell_type": "markdown",
   "id": "623b6b72",
   "metadata": {},
   "source": [
    "### Multi Layer Perceptron"
   ]
  },
  {
   "cell_type": "code",
   "execution_count": null,
   "id": "c73abab8",
   "metadata": {},
   "outputs": [],
   "source": [
    "pbounds = { 'batch_size' :(50,200),\n",
    "          'learning_rate_init':(0.0001,0.001)}\n",
    "\n",
    "def mlp_opt(batch_size,learning_rate_init):\n",
    "\n",
    "    params = {\n",
    "        'batch_size' : int(round(batch_size)),\n",
    "        'learning_rate' : ('adaptive'),\n",
    "         'learning_rate_init':learning_rate_init,\n",
    "         'activation': ('logistic'),\n",
    "         'max_iter' : (10000),\n",
    "         'power_t' :(0.5),\n",
    "         'solver': ('adam'),\n",
    "        'alpha': (0.0001),\n",
    "        'hidden_layer_sizes':(2)\n",
    "\n",
    "    }\n",
    "    \n",
    "    mlp = MLPClassifier(**params,random_state=seed)\n",
    "    score = cross_val_score(mlp, X_train, y_train, scoring='neg_log_loss', cv=skf,n_jobs=-1)\n",
    "    \n",
    "    return np.mean(score)\n",
    "\n",
    "BO_mlp= BayesianOptimization(f = mlp_opt, pbounds = pbounds, random_state=seed)  "
   ]
  },
  {
   "cell_type": "code",
   "execution_count": null,
   "id": "5099fae1",
   "metadata": {},
   "outputs": [],
   "source": [
    "BO_mlp.maximize(init_points=5, n_iter=15)"
   ]
  },
  {
   "cell_type": "code",
   "execution_count": null,
   "id": "494f26a6",
   "metadata": {},
   "outputs": [],
   "source": [
    "BO_mlp.max"
   ]
  },
  {
   "cell_type": "code",
   "execution_count": null,
   "id": "fefcf7dd",
   "metadata": {},
   "outputs": [],
   "source": [
    "max_params = BO_mlp.max['params']\n",
    "\n",
    "max_params['batch_size'] = int(round(max_params['batch_size']))"
   ]
  },
  {
   "cell_type": "code",
   "execution_count": null,
   "id": "35a7369b",
   "metadata": {},
   "outputs": [],
   "source": [
    "mlp_clf = MLPClassifier(**max_params,learning_rate='adaptive',\n",
    "         activation= 'logistic',\n",
    "         max_iter = 10000,\n",
    "         power_t =0.5,\n",
    "         solver='adam',\n",
    "        alpha=0.0001,\n",
    "        hidden_layer_sizes=2)\n",
    "\n",
    "scores = cross_val_score(mlp_clf, X_train, y_train, scoring='neg_log_loss', cv=skf, n_jobs=-1)\n",
    "\n",
    "print(scores)\n",
    "print(f'최대성능: {max(scores)}\\n평균성능: {np.mean(scores)}')\n",
    "\n",
    "models.append(mlp_clf)"
   ]
  },
  {
   "cell_type": "markdown",
   "id": "d9171d19",
   "metadata": {},
   "source": [
    "### XGB"
   ]
  },
  {
   "cell_type": "code",
   "execution_count": 22,
   "id": "b9e2e2df",
   "metadata": {},
   "outputs": [],
   "source": [
    "pbounds = { 'learning_rate': (0.05, 1.5),\n",
    "            'n_estimators': (100,300),\n",
    "            'max_depth': (5,15),   \n",
    "            'subsample': (0.8,0.95),  \n",
    "            'colsample': (0.75,0.95),   \n",
    "            'gamma': (0, 5)}\n",
    "\n",
    "def xgb_opt(learning_rate, n_estimators, max_depth, subsample, colsample, gamma):\n",
    "    \n",
    "    params = {\n",
    "        'learning_rate': learning_rate,\n",
    "        'n_estimators' : int(round(n_estimators)),\n",
    "        'max_depth' : int(round(max_depth)),\n",
    "        'subsample': subsample,\n",
    "        'colsample': colsample,   \n",
    "        'gamma': gamma,\n",
    "        'n_jobs' : -1\n",
    "    }\n",
    "    \n",
    "    xgb = XGBClassifier(**params) \n",
    "    skf = StratifiedKFold(n_splits=5 , shuffle=True, random_state=seed)\n",
    "    score = cross_val_score(xgb, X_train, y_train, scoring='neg_log_loss', cv=skf, n_jobs=-1)\n",
    "    return np.mean(score)\n",
    "BO_xgb = BayesianOptimization(f = xgb_opt, pbounds = pbounds, random_state=seed)"
   ]
  },
  {
   "cell_type": "code",
   "execution_count": 23,
   "id": "ca48d12d",
   "metadata": {},
   "outputs": [
    {
     "name": "stdout",
     "output_type": "stream",
     "text": [
      "|   iter    |  target   | colsample |   gamma   | learni... | max_depth | n_esti... | subsample |\n",
      "-------------------------------------------------------------------------------------------------\n",
      "| \u001b[0m 1       \u001b[0m | \u001b[0m-1.569   \u001b[0m | \u001b[0m 0.8598  \u001b[0m | \u001b[0m 3.576   \u001b[0m | \u001b[0m 0.924   \u001b[0m | \u001b[0m 10.45   \u001b[0m | \u001b[0m 184.7   \u001b[0m | \u001b[0m 0.8969  \u001b[0m |\n",
      "| \u001b[0m 2       \u001b[0m | \u001b[0m-1.897   \u001b[0m | \u001b[0m 0.8375  \u001b[0m | \u001b[0m 4.459   \u001b[0m | \u001b[0m 1.447   \u001b[0m | \u001b[0m 8.834   \u001b[0m | \u001b[0m 258.3   \u001b[0m | \u001b[0m 0.8793  \u001b[0m |\n",
      "| \u001b[95m 3       \u001b[0m | \u001b[95m-1.259   \u001b[0m | \u001b[95m 0.8636  \u001b[0m | \u001b[95m 4.628   \u001b[0m | \u001b[95m 0.153   \u001b[0m | \u001b[95m 5.871   \u001b[0m | \u001b[95m 104.0   \u001b[0m | \u001b[95m 0.9249  \u001b[0m |\n",
      "| \u001b[0m 4       \u001b[0m | \u001b[0m-1.977   \u001b[0m | \u001b[0m 0.9056  \u001b[0m | \u001b[0m 4.35    \u001b[0m | \u001b[0m 1.469   \u001b[0m | \u001b[0m 12.99   \u001b[0m | \u001b[0m 192.3   \u001b[0m | \u001b[0m 0.9171  \u001b[0m |\n"
     ]
    },
    {
     "ename": "KeyboardInterrupt",
     "evalue": "",
     "output_type": "error",
     "traceback": [
      "\u001b[0;31m---------------------------------------------------------------------------\u001b[0m",
      "\u001b[0;31mKeyError\u001b[0m                                  Traceback (most recent call last)",
      "\u001b[0;32m~/opt/anaconda3/lib/python3.8/site-packages/bayes_opt/target_space.py\u001b[0m in \u001b[0;36mprobe\u001b[0;34m(self, params)\u001b[0m\n\u001b[1;32m    190\u001b[0m         \u001b[0;32mtry\u001b[0m\u001b[0;34m:\u001b[0m\u001b[0;34m\u001b[0m\u001b[0;34m\u001b[0m\u001b[0m\n\u001b[0;32m--> 191\u001b[0;31m             \u001b[0mtarget\u001b[0m \u001b[0;34m=\u001b[0m \u001b[0mself\u001b[0m\u001b[0;34m.\u001b[0m\u001b[0m_cache\u001b[0m\u001b[0;34m[\u001b[0m\u001b[0m_hashable\u001b[0m\u001b[0;34m(\u001b[0m\u001b[0mx\u001b[0m\u001b[0;34m)\u001b[0m\u001b[0;34m]\u001b[0m\u001b[0;34m\u001b[0m\u001b[0;34m\u001b[0m\u001b[0m\n\u001b[0m\u001b[1;32m    192\u001b[0m         \u001b[0;32mexcept\u001b[0m \u001b[0mKeyError\u001b[0m\u001b[0;34m:\u001b[0m\u001b[0;34m\u001b[0m\u001b[0;34m\u001b[0m\u001b[0m\n",
      "\u001b[0;31mKeyError\u001b[0m: (0.7736548851737867, 3.199605106637619, 0.2578622667431173, 14.446689170495839, 204.36966435001432, 0.8621992909985785)",
      "\nDuring handling of the above exception, another exception occurred:\n",
      "\u001b[0;31mKeyboardInterrupt\u001b[0m                         Traceback (most recent call last)",
      "\u001b[0;32m<ipython-input-23-37322f4b1d46>\u001b[0m in \u001b[0;36m<module>\u001b[0;34m\u001b[0m\n\u001b[0;32m----> 1\u001b[0;31m \u001b[0mBO_xgb\u001b[0m\u001b[0;34m.\u001b[0m\u001b[0mmaximize\u001b[0m\u001b[0;34m(\u001b[0m\u001b[0minit_points\u001b[0m\u001b[0;34m=\u001b[0m\u001b[0;36m5\u001b[0m\u001b[0;34m,\u001b[0m \u001b[0mn_iter\u001b[0m\u001b[0;34m=\u001b[0m\u001b[0;36m10\u001b[0m\u001b[0;34m)\u001b[0m\u001b[0;34m\u001b[0m\u001b[0;34m\u001b[0m\u001b[0m\n\u001b[0m",
      "\u001b[0;32m~/opt/anaconda3/lib/python3.8/site-packages/bayes_opt/bayesian_optimization.py\u001b[0m in \u001b[0;36mmaximize\u001b[0;34m(self, init_points, n_iter, acq, kappa, xi, **gp_params)\u001b[0m\n\u001b[1;32m    172\u001b[0m                 \u001b[0miteration\u001b[0m \u001b[0;34m+=\u001b[0m \u001b[0;36m1\u001b[0m\u001b[0;34m\u001b[0m\u001b[0;34m\u001b[0m\u001b[0m\n\u001b[1;32m    173\u001b[0m \u001b[0;34m\u001b[0m\u001b[0m\n\u001b[0;32m--> 174\u001b[0;31m             \u001b[0mself\u001b[0m\u001b[0;34m.\u001b[0m\u001b[0mprobe\u001b[0m\u001b[0;34m(\u001b[0m\u001b[0mx_probe\u001b[0m\u001b[0;34m,\u001b[0m \u001b[0mlazy\u001b[0m\u001b[0;34m=\u001b[0m\u001b[0;32mFalse\u001b[0m\u001b[0;34m)\u001b[0m\u001b[0;34m\u001b[0m\u001b[0;34m\u001b[0m\u001b[0m\n\u001b[0m\u001b[1;32m    175\u001b[0m \u001b[0;34m\u001b[0m\u001b[0m\n\u001b[1;32m    176\u001b[0m         \u001b[0mself\u001b[0m\u001b[0;34m.\u001b[0m\u001b[0mdispatch\u001b[0m\u001b[0;34m(\u001b[0m\u001b[0mEvents\u001b[0m\u001b[0;34m.\u001b[0m\u001b[0mOPTIMIZATION_END\u001b[0m\u001b[0;34m)\u001b[0m\u001b[0;34m\u001b[0m\u001b[0;34m\u001b[0m\u001b[0m\n",
      "\u001b[0;32m~/opt/anaconda3/lib/python3.8/site-packages/bayes_opt/bayesian_optimization.py\u001b[0m in \u001b[0;36mprobe\u001b[0;34m(self, params, lazy)\u001b[0m\n\u001b[1;32m    110\u001b[0m             \u001b[0mself\u001b[0m\u001b[0;34m.\u001b[0m\u001b[0m_queue\u001b[0m\u001b[0;34m.\u001b[0m\u001b[0madd\u001b[0m\u001b[0;34m(\u001b[0m\u001b[0mparams\u001b[0m\u001b[0;34m)\u001b[0m\u001b[0;34m\u001b[0m\u001b[0;34m\u001b[0m\u001b[0m\n\u001b[1;32m    111\u001b[0m         \u001b[0;32melse\u001b[0m\u001b[0;34m:\u001b[0m\u001b[0;34m\u001b[0m\u001b[0;34m\u001b[0m\u001b[0m\n\u001b[0;32m--> 112\u001b[0;31m             \u001b[0mself\u001b[0m\u001b[0;34m.\u001b[0m\u001b[0m_space\u001b[0m\u001b[0;34m.\u001b[0m\u001b[0mprobe\u001b[0m\u001b[0;34m(\u001b[0m\u001b[0mparams\u001b[0m\u001b[0;34m)\u001b[0m\u001b[0;34m\u001b[0m\u001b[0;34m\u001b[0m\u001b[0m\n\u001b[0m\u001b[1;32m    113\u001b[0m             \u001b[0mself\u001b[0m\u001b[0;34m.\u001b[0m\u001b[0mdispatch\u001b[0m\u001b[0;34m(\u001b[0m\u001b[0mEvents\u001b[0m\u001b[0;34m.\u001b[0m\u001b[0mOPTIMIZATION_STEP\u001b[0m\u001b[0;34m)\u001b[0m\u001b[0;34m\u001b[0m\u001b[0;34m\u001b[0m\u001b[0m\n\u001b[1;32m    114\u001b[0m \u001b[0;34m\u001b[0m\u001b[0m\n",
      "\u001b[0;32m~/opt/anaconda3/lib/python3.8/site-packages/bayes_opt/target_space.py\u001b[0m in \u001b[0;36mprobe\u001b[0;34m(self, params)\u001b[0m\n\u001b[1;32m    192\u001b[0m         \u001b[0;32mexcept\u001b[0m \u001b[0mKeyError\u001b[0m\u001b[0;34m:\u001b[0m\u001b[0;34m\u001b[0m\u001b[0;34m\u001b[0m\u001b[0m\n\u001b[1;32m    193\u001b[0m             \u001b[0mparams\u001b[0m \u001b[0;34m=\u001b[0m \u001b[0mdict\u001b[0m\u001b[0;34m(\u001b[0m\u001b[0mzip\u001b[0m\u001b[0;34m(\u001b[0m\u001b[0mself\u001b[0m\u001b[0;34m.\u001b[0m\u001b[0m_keys\u001b[0m\u001b[0;34m,\u001b[0m \u001b[0mx\u001b[0m\u001b[0;34m)\u001b[0m\u001b[0;34m)\u001b[0m\u001b[0;34m\u001b[0m\u001b[0;34m\u001b[0m\u001b[0m\n\u001b[0;32m--> 194\u001b[0;31m             \u001b[0mtarget\u001b[0m \u001b[0;34m=\u001b[0m \u001b[0mself\u001b[0m\u001b[0;34m.\u001b[0m\u001b[0mtarget_func\u001b[0m\u001b[0;34m(\u001b[0m\u001b[0;34m**\u001b[0m\u001b[0mparams\u001b[0m\u001b[0;34m)\u001b[0m\u001b[0;34m\u001b[0m\u001b[0;34m\u001b[0m\u001b[0m\n\u001b[0m\u001b[1;32m    195\u001b[0m             \u001b[0mself\u001b[0m\u001b[0;34m.\u001b[0m\u001b[0mregister\u001b[0m\u001b[0;34m(\u001b[0m\u001b[0mx\u001b[0m\u001b[0;34m,\u001b[0m \u001b[0mtarget\u001b[0m\u001b[0;34m)\u001b[0m\u001b[0;34m\u001b[0m\u001b[0;34m\u001b[0m\u001b[0m\n\u001b[1;32m    196\u001b[0m         \u001b[0;32mreturn\u001b[0m \u001b[0mtarget\u001b[0m\u001b[0;34m\u001b[0m\u001b[0;34m\u001b[0m\u001b[0m\n",
      "\u001b[0;32m<ipython-input-22-3b15f1cdfef4>\u001b[0m in \u001b[0;36mxgb_opt\u001b[0;34m(learning_rate, n_estimators, max_depth, subsample, colsample, gamma)\u001b[0m\n\u001b[1;32m     20\u001b[0m     \u001b[0mxgb\u001b[0m \u001b[0;34m=\u001b[0m \u001b[0mXGBClassifier\u001b[0m\u001b[0;34m(\u001b[0m\u001b[0;34m**\u001b[0m\u001b[0mparams\u001b[0m\u001b[0;34m)\u001b[0m\u001b[0;34m\u001b[0m\u001b[0;34m\u001b[0m\u001b[0m\n\u001b[1;32m     21\u001b[0m     \u001b[0mskf\u001b[0m \u001b[0;34m=\u001b[0m \u001b[0mStratifiedKFold\u001b[0m\u001b[0;34m(\u001b[0m\u001b[0mn_splits\u001b[0m\u001b[0;34m=\u001b[0m\u001b[0;36m5\u001b[0m \u001b[0;34m,\u001b[0m \u001b[0mshuffle\u001b[0m\u001b[0;34m=\u001b[0m\u001b[0;32mTrue\u001b[0m\u001b[0;34m,\u001b[0m \u001b[0mrandom_state\u001b[0m\u001b[0;34m=\u001b[0m\u001b[0mseed\u001b[0m\u001b[0;34m)\u001b[0m\u001b[0;34m\u001b[0m\u001b[0;34m\u001b[0m\u001b[0m\n\u001b[0;32m---> 22\u001b[0;31m     \u001b[0mscore\u001b[0m \u001b[0;34m=\u001b[0m \u001b[0mcross_val_score\u001b[0m\u001b[0;34m(\u001b[0m\u001b[0mxgb\u001b[0m\u001b[0;34m,\u001b[0m \u001b[0mX_train\u001b[0m\u001b[0;34m,\u001b[0m \u001b[0my_train\u001b[0m\u001b[0;34m,\u001b[0m \u001b[0mscoring\u001b[0m\u001b[0;34m=\u001b[0m\u001b[0;34m'neg_log_loss'\u001b[0m\u001b[0;34m,\u001b[0m \u001b[0mcv\u001b[0m\u001b[0;34m=\u001b[0m\u001b[0mskf\u001b[0m\u001b[0;34m,\u001b[0m \u001b[0mn_jobs\u001b[0m\u001b[0;34m=\u001b[0m\u001b[0;34m-\u001b[0m\u001b[0;36m1\u001b[0m\u001b[0;34m)\u001b[0m\u001b[0;34m\u001b[0m\u001b[0;34m\u001b[0m\u001b[0m\n\u001b[0m\u001b[1;32m     23\u001b[0m     \u001b[0;32mreturn\u001b[0m \u001b[0mnp\u001b[0m\u001b[0;34m.\u001b[0m\u001b[0mmean\u001b[0m\u001b[0;34m(\u001b[0m\u001b[0mscore\u001b[0m\u001b[0;34m)\u001b[0m\u001b[0;34m\u001b[0m\u001b[0;34m\u001b[0m\u001b[0m\n\u001b[1;32m     24\u001b[0m \u001b[0mBO_xgb\u001b[0m \u001b[0;34m=\u001b[0m \u001b[0mBayesianOptimization\u001b[0m\u001b[0;34m(\u001b[0m\u001b[0mf\u001b[0m \u001b[0;34m=\u001b[0m \u001b[0mxgb_opt\u001b[0m\u001b[0;34m,\u001b[0m \u001b[0mpbounds\u001b[0m \u001b[0;34m=\u001b[0m \u001b[0mpbounds\u001b[0m\u001b[0;34m,\u001b[0m \u001b[0mrandom_state\u001b[0m\u001b[0;34m=\u001b[0m\u001b[0mseed\u001b[0m\u001b[0;34m)\u001b[0m\u001b[0;34m\u001b[0m\u001b[0;34m\u001b[0m\u001b[0m\n",
      "\u001b[0;32m~/opt/anaconda3/lib/python3.8/site-packages/sklearn/utils/validation.py\u001b[0m in \u001b[0;36minner_f\u001b[0;34m(*args, **kwargs)\u001b[0m\n\u001b[1;32m     61\u001b[0m             \u001b[0mextra_args\u001b[0m \u001b[0;34m=\u001b[0m \u001b[0mlen\u001b[0m\u001b[0;34m(\u001b[0m\u001b[0margs\u001b[0m\u001b[0;34m)\u001b[0m \u001b[0;34m-\u001b[0m \u001b[0mlen\u001b[0m\u001b[0;34m(\u001b[0m\u001b[0mall_args\u001b[0m\u001b[0;34m)\u001b[0m\u001b[0;34m\u001b[0m\u001b[0;34m\u001b[0m\u001b[0m\n\u001b[1;32m     62\u001b[0m             \u001b[0;32mif\u001b[0m \u001b[0mextra_args\u001b[0m \u001b[0;34m<=\u001b[0m \u001b[0;36m0\u001b[0m\u001b[0;34m:\u001b[0m\u001b[0;34m\u001b[0m\u001b[0;34m\u001b[0m\u001b[0m\n\u001b[0;32m---> 63\u001b[0;31m                 \u001b[0;32mreturn\u001b[0m \u001b[0mf\u001b[0m\u001b[0;34m(\u001b[0m\u001b[0;34m*\u001b[0m\u001b[0margs\u001b[0m\u001b[0;34m,\u001b[0m \u001b[0;34m**\u001b[0m\u001b[0mkwargs\u001b[0m\u001b[0;34m)\u001b[0m\u001b[0;34m\u001b[0m\u001b[0;34m\u001b[0m\u001b[0m\n\u001b[0m\u001b[1;32m     64\u001b[0m \u001b[0;34m\u001b[0m\u001b[0m\n\u001b[1;32m     65\u001b[0m             \u001b[0;31m# extra_args > 0\u001b[0m\u001b[0;34m\u001b[0m\u001b[0;34m\u001b[0m\u001b[0;34m\u001b[0m\u001b[0m\n",
      "\u001b[0;32m~/opt/anaconda3/lib/python3.8/site-packages/sklearn/model_selection/_validation.py\u001b[0m in \u001b[0;36mcross_val_score\u001b[0;34m(estimator, X, y, groups, scoring, cv, n_jobs, verbose, fit_params, pre_dispatch, error_score)\u001b[0m\n\u001b[1;32m    438\u001b[0m     \u001b[0mscorer\u001b[0m \u001b[0;34m=\u001b[0m \u001b[0mcheck_scoring\u001b[0m\u001b[0;34m(\u001b[0m\u001b[0mestimator\u001b[0m\u001b[0;34m,\u001b[0m \u001b[0mscoring\u001b[0m\u001b[0;34m=\u001b[0m\u001b[0mscoring\u001b[0m\u001b[0;34m)\u001b[0m\u001b[0;34m\u001b[0m\u001b[0;34m\u001b[0m\u001b[0m\n\u001b[1;32m    439\u001b[0m \u001b[0;34m\u001b[0m\u001b[0m\n\u001b[0;32m--> 440\u001b[0;31m     cv_results = cross_validate(estimator=estimator, X=X, y=y, groups=groups,\n\u001b[0m\u001b[1;32m    441\u001b[0m                                 \u001b[0mscoring\u001b[0m\u001b[0;34m=\u001b[0m\u001b[0;34m{\u001b[0m\u001b[0;34m'score'\u001b[0m\u001b[0;34m:\u001b[0m \u001b[0mscorer\u001b[0m\u001b[0;34m}\u001b[0m\u001b[0;34m,\u001b[0m \u001b[0mcv\u001b[0m\u001b[0;34m=\u001b[0m\u001b[0mcv\u001b[0m\u001b[0;34m,\u001b[0m\u001b[0;34m\u001b[0m\u001b[0;34m\u001b[0m\u001b[0m\n\u001b[1;32m    442\u001b[0m                                 \u001b[0mn_jobs\u001b[0m\u001b[0;34m=\u001b[0m\u001b[0mn_jobs\u001b[0m\u001b[0;34m,\u001b[0m \u001b[0mverbose\u001b[0m\u001b[0;34m=\u001b[0m\u001b[0mverbose\u001b[0m\u001b[0;34m,\u001b[0m\u001b[0;34m\u001b[0m\u001b[0;34m\u001b[0m\u001b[0m\n",
      "\u001b[0;32m~/opt/anaconda3/lib/python3.8/site-packages/sklearn/utils/validation.py\u001b[0m in \u001b[0;36minner_f\u001b[0;34m(*args, **kwargs)\u001b[0m\n\u001b[1;32m     61\u001b[0m             \u001b[0mextra_args\u001b[0m \u001b[0;34m=\u001b[0m \u001b[0mlen\u001b[0m\u001b[0;34m(\u001b[0m\u001b[0margs\u001b[0m\u001b[0;34m)\u001b[0m \u001b[0;34m-\u001b[0m \u001b[0mlen\u001b[0m\u001b[0;34m(\u001b[0m\u001b[0mall_args\u001b[0m\u001b[0;34m)\u001b[0m\u001b[0;34m\u001b[0m\u001b[0;34m\u001b[0m\u001b[0m\n\u001b[1;32m     62\u001b[0m             \u001b[0;32mif\u001b[0m \u001b[0mextra_args\u001b[0m \u001b[0;34m<=\u001b[0m \u001b[0;36m0\u001b[0m\u001b[0;34m:\u001b[0m\u001b[0;34m\u001b[0m\u001b[0;34m\u001b[0m\u001b[0m\n\u001b[0;32m---> 63\u001b[0;31m                 \u001b[0;32mreturn\u001b[0m \u001b[0mf\u001b[0m\u001b[0;34m(\u001b[0m\u001b[0;34m*\u001b[0m\u001b[0margs\u001b[0m\u001b[0;34m,\u001b[0m \u001b[0;34m**\u001b[0m\u001b[0mkwargs\u001b[0m\u001b[0;34m)\u001b[0m\u001b[0;34m\u001b[0m\u001b[0;34m\u001b[0m\u001b[0m\n\u001b[0m\u001b[1;32m     64\u001b[0m \u001b[0;34m\u001b[0m\u001b[0m\n\u001b[1;32m     65\u001b[0m             \u001b[0;31m# extra_args > 0\u001b[0m\u001b[0;34m\u001b[0m\u001b[0;34m\u001b[0m\u001b[0;34m\u001b[0m\u001b[0m\n",
      "\u001b[0;32m~/opt/anaconda3/lib/python3.8/site-packages/sklearn/model_selection/_validation.py\u001b[0m in \u001b[0;36mcross_validate\u001b[0;34m(estimator, X, y, groups, scoring, cv, n_jobs, verbose, fit_params, pre_dispatch, return_train_score, return_estimator, error_score)\u001b[0m\n\u001b[1;32m    244\u001b[0m     parallel = Parallel(n_jobs=n_jobs, verbose=verbose,\n\u001b[1;32m    245\u001b[0m                         pre_dispatch=pre_dispatch)\n\u001b[0;32m--> 246\u001b[0;31m     results = parallel(\n\u001b[0m\u001b[1;32m    247\u001b[0m         delayed(_fit_and_score)(\n\u001b[1;32m    248\u001b[0m             \u001b[0mclone\u001b[0m\u001b[0;34m(\u001b[0m\u001b[0mestimator\u001b[0m\u001b[0;34m)\u001b[0m\u001b[0;34m,\u001b[0m \u001b[0mX\u001b[0m\u001b[0;34m,\u001b[0m \u001b[0my\u001b[0m\u001b[0;34m,\u001b[0m \u001b[0mscorers\u001b[0m\u001b[0;34m,\u001b[0m \u001b[0mtrain\u001b[0m\u001b[0;34m,\u001b[0m \u001b[0mtest\u001b[0m\u001b[0;34m,\u001b[0m \u001b[0mverbose\u001b[0m\u001b[0;34m,\u001b[0m \u001b[0;32mNone\u001b[0m\u001b[0;34m,\u001b[0m\u001b[0;34m\u001b[0m\u001b[0;34m\u001b[0m\u001b[0m\n",
      "\u001b[0;32m~/opt/anaconda3/lib/python3.8/site-packages/joblib/parallel.py\u001b[0m in \u001b[0;36m__call__\u001b[0;34m(self, iterable)\u001b[0m\n\u001b[1;32m   1052\u001b[0m \u001b[0;34m\u001b[0m\u001b[0m\n\u001b[1;32m   1053\u001b[0m             \u001b[0;32mwith\u001b[0m \u001b[0mself\u001b[0m\u001b[0;34m.\u001b[0m\u001b[0m_backend\u001b[0m\u001b[0;34m.\u001b[0m\u001b[0mretrieval_context\u001b[0m\u001b[0;34m(\u001b[0m\u001b[0;34m)\u001b[0m\u001b[0;34m:\u001b[0m\u001b[0;34m\u001b[0m\u001b[0;34m\u001b[0m\u001b[0m\n\u001b[0;32m-> 1054\u001b[0;31m                 \u001b[0mself\u001b[0m\u001b[0;34m.\u001b[0m\u001b[0mretrieve\u001b[0m\u001b[0;34m(\u001b[0m\u001b[0;34m)\u001b[0m\u001b[0;34m\u001b[0m\u001b[0;34m\u001b[0m\u001b[0m\n\u001b[0m\u001b[1;32m   1055\u001b[0m             \u001b[0;31m# Make sure that we get a last message telling us we are done\u001b[0m\u001b[0;34m\u001b[0m\u001b[0;34m\u001b[0m\u001b[0;34m\u001b[0m\u001b[0m\n\u001b[1;32m   1056\u001b[0m             \u001b[0melapsed_time\u001b[0m \u001b[0;34m=\u001b[0m \u001b[0mtime\u001b[0m\u001b[0;34m.\u001b[0m\u001b[0mtime\u001b[0m\u001b[0;34m(\u001b[0m\u001b[0;34m)\u001b[0m \u001b[0;34m-\u001b[0m \u001b[0mself\u001b[0m\u001b[0;34m.\u001b[0m\u001b[0m_start_time\u001b[0m\u001b[0;34m\u001b[0m\u001b[0;34m\u001b[0m\u001b[0m\n",
      "\u001b[0;32m~/opt/anaconda3/lib/python3.8/site-packages/joblib/parallel.py\u001b[0m in \u001b[0;36mretrieve\u001b[0;34m(self)\u001b[0m\n\u001b[1;32m    931\u001b[0m             \u001b[0;32mtry\u001b[0m\u001b[0;34m:\u001b[0m\u001b[0;34m\u001b[0m\u001b[0;34m\u001b[0m\u001b[0m\n\u001b[1;32m    932\u001b[0m                 \u001b[0;32mif\u001b[0m \u001b[0mgetattr\u001b[0m\u001b[0;34m(\u001b[0m\u001b[0mself\u001b[0m\u001b[0;34m.\u001b[0m\u001b[0m_backend\u001b[0m\u001b[0;34m,\u001b[0m \u001b[0;34m'supports_timeout'\u001b[0m\u001b[0;34m,\u001b[0m \u001b[0;32mFalse\u001b[0m\u001b[0;34m)\u001b[0m\u001b[0;34m:\u001b[0m\u001b[0;34m\u001b[0m\u001b[0;34m\u001b[0m\u001b[0m\n\u001b[0;32m--> 933\u001b[0;31m                     \u001b[0mself\u001b[0m\u001b[0;34m.\u001b[0m\u001b[0m_output\u001b[0m\u001b[0;34m.\u001b[0m\u001b[0mextend\u001b[0m\u001b[0;34m(\u001b[0m\u001b[0mjob\u001b[0m\u001b[0;34m.\u001b[0m\u001b[0mget\u001b[0m\u001b[0;34m(\u001b[0m\u001b[0mtimeout\u001b[0m\u001b[0;34m=\u001b[0m\u001b[0mself\u001b[0m\u001b[0;34m.\u001b[0m\u001b[0mtimeout\u001b[0m\u001b[0;34m)\u001b[0m\u001b[0;34m)\u001b[0m\u001b[0;34m\u001b[0m\u001b[0;34m\u001b[0m\u001b[0m\n\u001b[0m\u001b[1;32m    934\u001b[0m                 \u001b[0;32melse\u001b[0m\u001b[0;34m:\u001b[0m\u001b[0;34m\u001b[0m\u001b[0;34m\u001b[0m\u001b[0m\n\u001b[1;32m    935\u001b[0m                     \u001b[0mself\u001b[0m\u001b[0;34m.\u001b[0m\u001b[0m_output\u001b[0m\u001b[0;34m.\u001b[0m\u001b[0mextend\u001b[0m\u001b[0;34m(\u001b[0m\u001b[0mjob\u001b[0m\u001b[0;34m.\u001b[0m\u001b[0mget\u001b[0m\u001b[0;34m(\u001b[0m\u001b[0;34m)\u001b[0m\u001b[0;34m)\u001b[0m\u001b[0;34m\u001b[0m\u001b[0;34m\u001b[0m\u001b[0m\n",
      "\u001b[0;32m~/opt/anaconda3/lib/python3.8/site-packages/joblib/_parallel_backends.py\u001b[0m in \u001b[0;36mwrap_future_result\u001b[0;34m(future, timeout)\u001b[0m\n\u001b[1;32m    540\u001b[0m         AsyncResults.get from multiprocessing.\"\"\"\n\u001b[1;32m    541\u001b[0m         \u001b[0;32mtry\u001b[0m\u001b[0;34m:\u001b[0m\u001b[0;34m\u001b[0m\u001b[0;34m\u001b[0m\u001b[0m\n\u001b[0;32m--> 542\u001b[0;31m             \u001b[0;32mreturn\u001b[0m \u001b[0mfuture\u001b[0m\u001b[0;34m.\u001b[0m\u001b[0mresult\u001b[0m\u001b[0;34m(\u001b[0m\u001b[0mtimeout\u001b[0m\u001b[0;34m=\u001b[0m\u001b[0mtimeout\u001b[0m\u001b[0;34m)\u001b[0m\u001b[0;34m\u001b[0m\u001b[0;34m\u001b[0m\u001b[0m\n\u001b[0m\u001b[1;32m    543\u001b[0m         \u001b[0;32mexcept\u001b[0m \u001b[0mCfTimeoutError\u001b[0m \u001b[0;32mas\u001b[0m \u001b[0me\u001b[0m\u001b[0;34m:\u001b[0m\u001b[0;34m\u001b[0m\u001b[0;34m\u001b[0m\u001b[0m\n\u001b[1;32m    544\u001b[0m             \u001b[0;32mraise\u001b[0m \u001b[0mTimeoutError\u001b[0m \u001b[0;32mfrom\u001b[0m \u001b[0me\u001b[0m\u001b[0;34m\u001b[0m\u001b[0;34m\u001b[0m\u001b[0m\n",
      "\u001b[0;32m~/opt/anaconda3/lib/python3.8/concurrent/futures/_base.py\u001b[0m in \u001b[0;36mresult\u001b[0;34m(self, timeout)\u001b[0m\n\u001b[1;32m    432\u001b[0m                 \u001b[0;32mreturn\u001b[0m \u001b[0mself\u001b[0m\u001b[0;34m.\u001b[0m\u001b[0m__get_result\u001b[0m\u001b[0;34m(\u001b[0m\u001b[0;34m)\u001b[0m\u001b[0;34m\u001b[0m\u001b[0;34m\u001b[0m\u001b[0m\n\u001b[1;32m    433\u001b[0m \u001b[0;34m\u001b[0m\u001b[0m\n\u001b[0;32m--> 434\u001b[0;31m             \u001b[0mself\u001b[0m\u001b[0;34m.\u001b[0m\u001b[0m_condition\u001b[0m\u001b[0;34m.\u001b[0m\u001b[0mwait\u001b[0m\u001b[0;34m(\u001b[0m\u001b[0mtimeout\u001b[0m\u001b[0;34m)\u001b[0m\u001b[0;34m\u001b[0m\u001b[0;34m\u001b[0m\u001b[0m\n\u001b[0m\u001b[1;32m    435\u001b[0m \u001b[0;34m\u001b[0m\u001b[0m\n\u001b[1;32m    436\u001b[0m             \u001b[0;32mif\u001b[0m \u001b[0mself\u001b[0m\u001b[0;34m.\u001b[0m\u001b[0m_state\u001b[0m \u001b[0;32min\u001b[0m \u001b[0;34m[\u001b[0m\u001b[0mCANCELLED\u001b[0m\u001b[0;34m,\u001b[0m \u001b[0mCANCELLED_AND_NOTIFIED\u001b[0m\u001b[0;34m]\u001b[0m\u001b[0;34m:\u001b[0m\u001b[0;34m\u001b[0m\u001b[0;34m\u001b[0m\u001b[0m\n",
      "\u001b[0;32m~/opt/anaconda3/lib/python3.8/threading.py\u001b[0m in \u001b[0;36mwait\u001b[0;34m(self, timeout)\u001b[0m\n\u001b[1;32m    300\u001b[0m         \u001b[0;32mtry\u001b[0m\u001b[0;34m:\u001b[0m    \u001b[0;31m# restore state no matter what (e.g., KeyboardInterrupt)\u001b[0m\u001b[0;34m\u001b[0m\u001b[0;34m\u001b[0m\u001b[0m\n\u001b[1;32m    301\u001b[0m             \u001b[0;32mif\u001b[0m \u001b[0mtimeout\u001b[0m \u001b[0;32mis\u001b[0m \u001b[0;32mNone\u001b[0m\u001b[0;34m:\u001b[0m\u001b[0;34m\u001b[0m\u001b[0;34m\u001b[0m\u001b[0m\n\u001b[0;32m--> 302\u001b[0;31m                 \u001b[0mwaiter\u001b[0m\u001b[0;34m.\u001b[0m\u001b[0macquire\u001b[0m\u001b[0;34m(\u001b[0m\u001b[0;34m)\u001b[0m\u001b[0;34m\u001b[0m\u001b[0;34m\u001b[0m\u001b[0m\n\u001b[0m\u001b[1;32m    303\u001b[0m                 \u001b[0mgotit\u001b[0m \u001b[0;34m=\u001b[0m \u001b[0;32mTrue\u001b[0m\u001b[0;34m\u001b[0m\u001b[0;34m\u001b[0m\u001b[0m\n\u001b[1;32m    304\u001b[0m             \u001b[0;32melse\u001b[0m\u001b[0;34m:\u001b[0m\u001b[0;34m\u001b[0m\u001b[0;34m\u001b[0m\u001b[0m\n",
      "\u001b[0;31mKeyboardInterrupt\u001b[0m: "
     ]
    }
   ],
   "source": [
    "BO_xgb.maximize(init_points=5, n_iter=10)"
   ]
  },
  {
   "cell_type": "code",
   "execution_count": 16,
   "id": "b531116a",
   "metadata": {},
   "outputs": [
    {
     "data": {
      "text/plain": [
       "{}"
      ]
     },
     "execution_count": 16,
     "metadata": {},
     "output_type": "execute_result"
    }
   ],
   "source": [
    "BO_xgb.max"
   ]
  },
  {
   "cell_type": "code",
   "execution_count": null,
   "id": "509228d2",
   "metadata": {},
   "outputs": [],
   "source": [
    "max_params = BO_xgb.max['params']\n",
    "\n",
    "max_params['n_estimators'] = int(round(max_params['n_estimators']))\n",
    "max_params['max_depth'] = int(round(max_params['max_depth']))\n",
    "\n",
    "max_params"
   ]
  },
  {
   "cell_type": "code",
   "execution_count": null,
   "id": "850537cf",
   "metadata": {},
   "outputs": [],
   "source": [
    "xgb_clf = XGBClassifier(**max_params)\n",
    "\n",
    "scores = cross_val_score(xgb_clf, X_train, y_train, scoring='neg_log_loss', cv=skf, n_jobs=-1)\n",
    "\n",
    "print(scores)\n",
    "print(f'최대성능: {max(scores)}\\n평균성능: {np.mean(scores)}')\n",
    "\n",
    "models.append(xgb_clf)"
   ]
  },
  {
   "cell_type": "markdown",
   "id": "572b5e77",
   "metadata": {},
   "source": [
    "### SVC"
   ]
  },
  {
   "cell_type": "code",
   "execution_count": null,
   "id": "e0105cd4",
   "metadata": {},
   "outputs": [],
   "source": [
    "pbounds = { 'C':(0.1,10),\n",
    "          'gamma':(0.1,10)}\n",
    "\n",
    "\n",
    "def svm_opt(C,gamma):\n",
    "    params = {'C' : C,\n",
    "              'gamma' : gamma}\n",
    "    \n",
    "    svm = SVC(**params)\n",
    "    skf = StratifiedKFold(n_splits=5 , shuffle=False, random_state=seed)\n",
    "    score = cross_val_score(svm, X_train, y_train, scoring='neg_log_loss', cv=skf)\n",
    "    return np.mean(score)\n",
    "\n",
    "BO_svm = BayesianOptimization(f = svm_opt, pbounds = pbounds, random_state=seed)"
   ]
  },
  {
   "cell_type": "code",
   "execution_count": null,
   "id": "958541bd",
   "metadata": {},
   "outputs": [],
   "source": [
    "BO_svm.maximize(init_points=5, n_iter=10)"
   ]
  },
  {
   "cell_type": "code",
   "execution_count": null,
   "id": "db275e7b",
   "metadata": {},
   "outputs": [],
   "source": [
    "BO_svm.max\n",
    "max_params = BO_svm.max['params']\n",
    "\n",
    "max_params"
   ]
  },
  {
   "cell_type": "code",
   "execution_count": null,
   "id": "fe3051f3",
   "metadata": {},
   "outputs": [],
   "source": [
    "svm_clf = SVC(**max_params)\n",
    "scores = cross_val_score(svm_clf, X_train, y_train, scoring='neg_log_loss', cv=skf)\n",
    "print(scores)\n",
    "print(f'최대성능: {max(scores)}\\n평균성능: {np.mean(scores)}')\n",
    "\n",
    "models.append(svm_clf)"
   ]
  },
  {
   "cell_type": "markdown",
   "id": "b8a42f62",
   "metadata": {},
   "source": [
    "### Voting"
   ]
  },
  {
   "cell_type": "code",
   "execution_count": null,
   "id": "a765299d",
   "metadata": {},
   "outputs": [],
   "source": [
    "estimators = [(model.__class__.__name__, model) for model in models]\n",
    "estimators"
   ]
  },
  {
   "cell_type": "markdown",
   "id": "592f1412",
   "metadata": {},
   "source": [
    "### Soft voting"
   ]
  },
  {
   "cell_type": "code",
   "execution_count": 39,
   "id": "4cf40677",
   "metadata": {},
   "outputs": [
    {
     "name": "stdout",
     "output_type": "stream",
     "text": [
      "1.2571629708649552\n"
     ]
    }
   ],
   "source": [
    "voting_clf = VotingClassifier(estimators = estimators, voting='soft', n_jobs=-1)\n",
    "voting_clf.fit(X_train, y_train)\n",
    "pred = voting_clf.predict_proba(X_dev)\n",
    "test_score = log_loss(y_dev, pred)\n",
    "\n",
    "print(test_score)"
   ]
  },
  {
   "cell_type": "code",
   "execution_count": 42,
   "id": "1e3139a3",
   "metadata": {},
   "outputs": [],
   "source": [
    "pred = pd.DataFrame(voting_clf.predict_proba(X_test))\n",
    "\n",
    "result = pd.concat([cust_te , pred], axis =1)\n",
    "result.columns = ['CLNT_ID','F20','F30','F40','M20','M30','M40']\n",
    "result\n",
    "\n",
    "result.to_csv('voting_1115.csv',index=False)"
   ]
  },
  {
   "cell_type": "markdown",
   "id": "1c8bfa7f",
   "metadata": {},
   "source": [
    "### Layer Stacking"
   ]
  },
  {
   "cell_type": "code",
   "execution_count": 40,
   "id": "fe1156f5",
   "metadata": {},
   "outputs": [
    {
     "name": "stdout",
     "output_type": "stream",
     "text": [
      "1.2779105960425103\n"
     ]
    }
   ],
   "source": [
    "stk_layer2 = StackingClassifier(estimators = [('lr', lr_clf), ('lgb', lgbm_clf)],\n",
    "                            final_estimator = lr_clf, cv=skf, n_jobs=-1)\n",
    "\n",
    "stk_clf = StackingClassifier(estimators = [('extra', extra_clf), ('rf', rf_clf)],\n",
    "                            final_estimator = stk_layer2, cv=skf, n_jobs=-1)\n",
    "\n",
    "stk_clf.fit(X_train, y_train)\n",
    "pred = stk_clf.predict_proba(X_dev)\n",
    "\n",
    "test_score = log_loss(y_dev, pred)\n",
    "print(test_score)"
   ]
  },
  {
   "cell_type": "code",
   "execution_count": 41,
   "id": "b742958c",
   "metadata": {},
   "outputs": [],
   "source": [
    "pred = pd.DataFrame(stk_clf.predict_proba(X_test))\n",
    "\n",
    "result = pd.concat([cust_te , pred], axis =1)\n",
    "result.columns = ['CLNT_ID','F20','F30','F40','M20','M30','M40']\n",
    "result\n",
    "\n",
    "result.to_csv('1115_s.csv',index=False)"
   ]
  },
  {
   "cell_type": "markdown",
   "id": "d45c18ab",
   "metadata": {},
   "source": [
    "### END"
   ]
  }
 ],
 "metadata": {
  "kernelspec": {
   "display_name": "Python 3 (ipykernel)",
   "language": "python",
   "name": "python3"
  },
  "language_info": {
   "codemirror_mode": {
    "name": "ipython",
    "version": 3
   },
   "file_extension": ".py",
   "mimetype": "text/x-python",
   "name": "python",
   "nbconvert_exporter": "python",
   "pygments_lexer": "ipython3",
   "version": "3.8.12"
  }
 },
 "nbformat": 4,
 "nbformat_minor": 5
}
