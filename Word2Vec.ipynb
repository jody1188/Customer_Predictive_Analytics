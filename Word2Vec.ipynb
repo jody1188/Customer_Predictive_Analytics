{
 "cells": [
  {
   "cell_type": "code",
   "execution_count": 9,
   "id": "2296cb55",
   "metadata": {},
   "outputs": [
    {
     "name": "stdout",
     "output_type": "stream",
     "text": [
      "Overwriting word2vec_1.py\n"
     ]
    }
   ],
   "source": [
    "%%writefile word2vec_1.py\n",
    "\n",
    "### Imports\n",
    "import pandas as pd\n",
    "import numpy as np\n",
    "import os\n",
    "\n",
    "\n",
    "train = pd.read_csv('L.POINT_train.csv', encoding='UTF-8')\n",
    "test = pd.read_csv('L.POINT_test.csv', encoding='UTF-8')\n",
    "\n",
    "p_level = 'CLAC3_NM'\n",
    "\n",
    "def oversample(x, n, seed=0):\n",
    "    if n == 0:\n",
    "        return list(x)\n",
    "    uw = np.unique(x)\n",
    "    bs = np.array([])\n",
    "    np.random.seed(seed)\n",
    "    for j in range(n):\n",
    "        bs = np.append(bs, np.random.choice(uw, len(uw), replace=False))\n",
    "    return list(bs)\n",
    "\n",
    "train_corpus = list(train.groupby('CLNT_ID')[p_level].agg(oversample, 30))\n",
    "test_corpus = list(test.groupby('CLNT_ID')[p_level].agg(oversample, 30))\n",
    "\n",
    "\n",
    "num_features = 3\n",
    "min_word_count = 1 \n",
    "context = 3 \n",
    "\n",
    "\n",
    "from gensim.models import word2vec\n",
    "\n",
    "w2v = word2vec.Word2Vec(train_corpus, \n",
    "                        size=num_features, \n",
    "                        min_count=min_word_count,\n",
    "                        window=context,\n",
    "                        seed=0, workers=1)\n",
    "\n",
    "w2v.init_sims(replace=True)\n",
    "\n",
    "\n",
    "class EmbeddingVectorizer(object):\n",
    "    def __init__(self, word2vec):\n",
    "        self.word2vec = word2vec\n",
    "        self.dim = num_features\n",
    "    def fit(self, X):\n",
    "        return self\n",
    "    def transform(self, X):\n",
    "        return np.array([\n",
    "            np.hstack([\n",
    "                np.max([self.word2vec[w] for w in words if w in self.word2vec] or [np.zeros(self.dim)], axis=0),\n",
    "                np.min([self.word2vec[w] for w in words if w in self.word2vec] or [np.zeros(self.dim)], axis=0),\n",
    "                np.mean([self.word2vec[w] for w in words if w in self.word2vec] or [np.zeros(self.dim)], axis=0),                \n",
    "                np.std([self.word2vec[w] for w in words if w in self.word2vec] or [np.zeros(self.dim)], axis=0)                \n",
    "            ]) \n",
    "            for words in X\n",
    "        ]) \n",
    "\n",
    "train_features = pd.DataFrame(EmbeddingVectorizer(w2v.wv).fit(train_corpus).transform(train_corpus))\n",
    "test_features = pd.DataFrame(EmbeddingVectorizer(w2v.wv).transform(test_corpus))\n",
    "\n",
    "train_features.columns = ['v'+f'{c+1:03d}' for c in train_features.columns]\n",
    "test_features.columns = ['v'+f'{c+1:03d}' for c in test_features.columns]\n",
    "\n",
    "pd.concat([pd.DataFrame({'CLNT_ID': np.sort(train['CLNT_ID'].unique())}), train_features], axis=1).to_csv('X_train_w2v_CLAC3_NM.csv', index=False)\n",
    "pd.concat([pd.DataFrame({'CLNT_ID': np.sort(test['CLNT_ID'].unique())}), test_features], axis=1).to_csv('X_test_w2v_CLAC3_NM.csv', index=False)"
   ]
  },
  {
   "cell_type": "code",
   "execution_count": 10,
   "id": "fdadae31",
   "metadata": {},
   "outputs": [
    {
     "data": {
      "text/plain": [
       "CompletedProcess(args=['python', 'word2vec_1.py'], returncode=1)"
      ]
     },
     "execution_count": 10,
     "metadata": {},
     "output_type": "execute_result"
    }
   ],
   "source": [
    "import os\n",
    "import subprocess\n",
    "\n",
    "subprocess.run(['python', 'word2vec_1.py'], env={**os.environ, 'PYTHONHASHSEED': '123'})"
   ]
  },
  {
   "cell_type": "code",
   "execution_count": 11,
   "id": "e4e33d14",
   "metadata": {},
   "outputs": [
    {
     "name": "stdout",
     "output_type": "stream",
     "text": [
      "Overwriting word2vec_2.py\n"
     ]
    }
   ],
   "source": [
    "%%writefile word2vec_2.py\n",
    "\n",
    "import pandas as pd\n",
    "import numpy as np\n",
    "import os\n",
    "\n",
    "\n",
    "train = pd.read_csv('L.POINT_train.csv', encoding='UTF-8')\n",
    "test = pd.read_csv('L.POINT_test.csv', encoding='UTF-8')\n",
    "\n",
    "p_level = 'CLAC2_NM'\n",
    "\n",
    "\n",
    "def oversample(x, n, seed=0):\n",
    "    if n == 0:\n",
    "        return list(x)\n",
    "    uw = np.unique(x)\n",
    "    bs = np.array([])\n",
    "    np.random.seed(seed)\n",
    "    for j in range(n):\n",
    "        bs = np.append(bs, np.random.choice(uw, len(uw), replace=False))\n",
    "    return list(bs)\n",
    "\n",
    "train_corpus = list(train.groupby('CLNT_ID')[p_level].agg(oversample, 30))\n",
    "test_corpus = list(test.groupby('CLNT_ID')[p_level].agg(oversample, 30))\n",
    "\n",
    "num_features = 30 \n",
    "min_word_count = 1 \n",
    "context = 3 \n",
    "\n",
    "from gensim.models import word2vec\n",
    "\n",
    "w2v = word2vec.Word2Vec(train_corpus, \n",
    "                        size=num_features, \n",
    "                        min_count=min_word_count,\n",
    "                        window=context,\n",
    "                        seed=0, workers=1)\n",
    "\n",
    "w2v.init_sims(replace=True)\n",
    "\n",
    "\n",
    "class EmbeddingVectorizer(object):\n",
    "    def __init__(self, word2vec):\n",
    "        self.word2vec = word2vec\n",
    "        self.dim = num_features\n",
    "    def fit(self, X):\n",
    "        return self\n",
    "    def transform(self, X):\n",
    "        return np.array([\n",
    "            np.hstack([\n",
    "                np.max([self.word2vec[w] for w in words if w in self.word2vec] or [np.zeros(self.dim)], axis=0),\n",
    "                np.min([self.word2vec[w] for w in words if w in self.word2vec] or [np.zeros(self.dim)], axis=0),\n",
    "                np.mean([self.word2vec[w] for w in words if w in self.word2vec] or [np.zeros(self.dim)], axis=0),                \n",
    "                np.std([self.word2vec[w] for w in words if w in self.word2vec] or [np.zeros(self.dim)], axis=0)                \n",
    "            ]) \n",
    "            for words in X\n",
    "        ]) \n",
    "\n",
    "train_features = pd.DataFrame(EmbeddingVectorizer(w2v.wv).fit(train_corpus).transform(train_corpus))\n",
    "test_features = pd.DataFrame(EmbeddingVectorizer(w2v.wv).transform(test_corpus))\n",
    "\n",
    "train_features.columns = ['v'+f'{c+1:03d}' for c in train_features.columns]\n",
    "test_features.columns = ['v'+f'{c+1:03d}' for c in test_features.columns]\n",
    "\n",
    "pd.concat([pd.DataFrame({'CLNT_ID': np.sort(train['CLNT_ID'].unique())}), train_features], axis=1).to_csv('X_train_w2v_CLAC2_NM.csv', index=False)\n",
    "pd.concat([pd.DataFrame({'CLNT_ID': np.sort(test['CLNT_ID'].unique())}), test_features], axis=1).to_csv('X_test_w2v_CLAC2_NM.csv', index=False)"
   ]
  },
  {
   "cell_type": "code",
   "execution_count": 12,
   "id": "aed9f291",
   "metadata": {},
   "outputs": [
    {
     "data": {
      "text/plain": [
       "CompletedProcess(args=['python', 'word2vec_2.py'], returncode=1)"
      ]
     },
     "execution_count": 12,
     "metadata": {},
     "output_type": "execute_result"
    }
   ],
   "source": [
    "import os\n",
    "import subprocess\n",
    "\n",
    "subprocess.run(['python', 'word2vec_2.py'], env={**os.environ, 'PYTHONHASHSEED': '123'})"
   ]
  },
  {
   "cell_type": "code",
   "execution_count": 17,
   "id": "a7c93fec",
   "metadata": {},
   "outputs": [
    {
     "name": "stdout",
     "output_type": "stream",
     "text": [
      "Overwriting word2vec_3.py\n"
     ]
    }
   ],
   "source": [
    "%%writefile word2vec_3.py\n",
    "\n",
    "### Imports\n",
    "import pandas as pd\n",
    "import numpy as np\n",
    "import os\n",
    "\n",
    "train = pd.read_csv('L.POINT_train.csv', encoding='UTF-8')\n",
    "test = pd.read_csv('L.POINT_test.csv', encoding='UTF-8')\n",
    "\n",
    "\n",
    "p_level = 'PD_BRA_NM'\n",
    "\n",
    "def oversample(x, n, seed=0):\n",
    "    if n == 0:\n",
    "        return list(x)\n",
    "    uw = np.unique(x)\n",
    "    bs = np.array([])\n",
    "    np.random.seed(seed)\n",
    "    for j in range(n):\n",
    "        bs = np.append(bs, np.random.choice(uw, len(uw), replace=False))\n",
    "    return list(bs)\n",
    "\n",
    "train_corpus = list(train.groupby('CLNT_ID')[p_level].agg(oversample, 30))\n",
    "test_corpus = list(test.groupby('CLNT_ID')[p_level].agg(oversample, 30))\n",
    "\n",
    "num_features = 30 \n",
    "min_word_count = 1 \n",
    "context = 3\n",
    "\n",
    "\n",
    "from gensim.models import word2vec\n",
    "\n",
    "w2v = word2vec.Word2Vec(train_corpus, \n",
    "                        size=num_features, \n",
    "                        min_count=min_word_count,\n",
    "                        window=context,\n",
    "                        seed=0, workers=1)\n",
    "w2v.init_sims(replace=True)\n",
    "\n",
    "class EmbeddingVectorizer(object):\n",
    "    def __init__(self, word2vec):\n",
    "        self.word2vec = word2vec\n",
    "        self.dim = num_features\n",
    "    def fit(self, X):\n",
    "        return self\n",
    "    def transform(self, X):\n",
    "        return np.array([\n",
    "            np.hstack([\n",
    "                np.max([self.word2vec[w] for w in words if w in self.word2vec] or [np.zeros(self.dim)], axis=0),\n",
    "                np.min([self.word2vec[w] for w in words if w in self.word2vec] or [np.zeros(self.dim)], axis=0),\n",
    "                np.mean([self.word2vec[w] for w in words if w in self.word2vec] or [np.zeros(self.dim)], axis=0),                \n",
    "                np.std([self.word2vec[w] for w in words if w in self.word2vec] or [np.zeros(self.dim)], axis=0)                \n",
    "            ]) \n",
    "            for words in X\n",
    "        ]) \n",
    "\n",
    "train_features = pd.DataFrame(EmbeddingVectorizer(w2v.wv).fit(train_corpus).transform(train_corpus))\n",
    "test_features = pd.DataFrame(EmbeddingVectorizer(w2v.wv).transform(test_corpus))\n",
    "\n",
    "train_features.columns = ['v'+f'{c+1:03d}' for c in train_features.columns]\n",
    "test_features.columns = ['v'+f'{c+1:03d}' for c in test_features.columns]\n",
    "\n",
    "pd.concat([pd.DataFrame({'CLNT_ID': np.sort(train['CLNT_ID'].unique())}), train_features], axis=1).to_csv('X_train_w2v_PD_BRA_NM.csv', index=False)\n",
    "pd.concat([pd.DataFrame({'CLNT_ID': np.sort(test['CLNT_ID'].unique())}), test_features], axis=1).to_csv('X_test_w2v_PD_BRA_NM.csv', index=False)"
   ]
  },
  {
   "cell_type": "code",
   "execution_count": 14,
   "id": "54e6a71f",
   "metadata": {},
   "outputs": [
    {
     "data": {
      "text/plain": [
       "CompletedProcess(args=['python', 'word2vec_3.py'], returncode=1)"
      ]
     },
     "execution_count": 14,
     "metadata": {},
     "output_type": "execute_result"
    }
   ],
   "source": [
    "import os\n",
    "import subprocess\n",
    "\n",
    "subprocess.run(['python', 'word2vec_3.py'], env={**os.environ, 'PYTHONHASHSEED': '123'})"
   ]
  },
  {
   "cell_type": "code",
   "execution_count": 15,
   "id": "c02c65ea",
   "metadata": {},
   "outputs": [
    {
     "name": "stdout",
     "output_type": "stream",
     "text": [
      "Overwriting word2vec_4.py\n"
     ]
    }
   ],
   "source": [
    "%%writefile word2vec_4.py\n",
    "\n",
    "import pandas as pd\n",
    "import numpy as np\n",
    "import os\n",
    "\n",
    "train = pd.read_csv('L.POINT_train.csv', encoding='UTF-8')\n",
    "test = pd.read_csv('L.POINT_test.csv', encoding='UTF-8')\n",
    "\n",
    "p_level = 'KWD_NM'\n",
    "\n",
    "def oversample(x, n, seed=0):\n",
    "    if n == 0:\n",
    "        return list(x)\n",
    "    uw = np.unique(x)\n",
    "    bs = np.array([])\n",
    "    np.random.seed(seed)\n",
    "    for j in range(n):\n",
    "        bs = np.append(bs, np.random.choice(uw, len(uw), replace=False))\n",
    "    return list(bs)\n",
    "\n",
    "train_corpus = list(train.groupby('CLNT_ID')[p_level].agg(oversample, 30))\n",
    "test_corpus = list(test.groupby('CLNT_ID')[p_level].agg(oversample, 30))\n",
    "\n",
    "num_features = 30 \n",
    "min_word_count = 1 \n",
    "context = 3 \n",
    "\n",
    "from gensim.models import word2vec\n",
    "\n",
    "w2v = word2vec.Word2Vec(train_corpus, \n",
    "                        size=num_features, \n",
    "                        min_count=min_word_count,\n",
    "                        window=context,\n",
    "                        seed=0, workers=1)\n",
    "\n",
    "w2v.init_sims(replace=True)\n",
    "\n",
    "\n",
    "class EmbeddingVectorizer(object):\n",
    "    def __init__(self, word2vec):\n",
    "        self.word2vec = word2vec\n",
    "        self.dim = num_features\n",
    "    def fit(self, X):\n",
    "        return self\n",
    "    def transform(self, X):\n",
    "        return np.array([\n",
    "            np.hstack([\n",
    "                np.max([self.word2vec[w] for w in words if w in self.word2vec] or [np.zeros(self.dim)], axis=0),\n",
    "                np.min([self.word2vec[w] for w in words if w in self.word2vec] or [np.zeros(self.dim)], axis=0),\n",
    "                np.mean([self.word2vec[w] for w in words if w in self.word2vec] or [np.zeros(self.dim)], axis=0),                \n",
    "                np.std([self.word2vec[w] for w in words if w in self.word2vec] or [np.zeros(self.dim)], axis=0)                \n",
    "            ]) \n",
    "            for words in X\n",
    "        ]) \n",
    "\n",
    "train_features = pd.DataFrame(EmbeddingVectorizer(w2v.wv).fit(train_corpus).transform(train_corpus))\n",
    "test_features = pd.DataFrame(EmbeddingVectorizer(w2v.wv).transform(test_corpus))\n",
    "\n",
    "train_features.columns = ['v'+f'{c+1:03d}' for c in train_features.columns]\n",
    "test_features.columns = ['v'+f'{c+1:03d}' for c in test_features.columns]\n",
    "\n",
    "pd.concat([pd.DataFrame({'CLNT_ID': np.sort(train['CLNT_ID'].unique())}), train_features], axis=1).to_csv('X_train_w2v_KWD_NM.csv', index=False)\n",
    "pd.concat([pd.DataFrame({'CLNT_ID': np.sort(test['CLNT_ID'].unique())}), test_features], axis=1).to_csv('X_test_w2v_KWD_NM.csv', index=False)"
   ]
  },
  {
   "cell_type": "code",
   "execution_count": 16,
   "id": "98b64d5c",
   "metadata": {},
   "outputs": [
    {
     "data": {
      "text/plain": [
       "CompletedProcess(args=['python', 'word2vec_4.py'], returncode=1)"
      ]
     },
     "execution_count": 16,
     "metadata": {},
     "output_type": "execute_result"
    }
   ],
   "source": [
    "import os\n",
    "import subprocess\n",
    "\n",
    "subprocess.run(['python', 'word2vec_4.py'], env={**os.environ, 'PYTHONHASHSEED': '123'})"
   ]
  },
  {
   "cell_type": "code",
   "execution_count": null,
   "id": "582dee69",
   "metadata": {},
   "outputs": [],
   "source": []
  }
 ],
 "metadata": {
  "kernelspec": {
   "display_name": "Python 3 (ipykernel)",
   "language": "python",
   "name": "python3"
  },
  "language_info": {
   "codemirror_mode": {
    "name": "ipython",
    "version": 3
   },
   "file_extension": ".py",
   "mimetype": "text/x-python",
   "name": "python",
   "nbconvert_exporter": "python",
   "pygments_lexer": "ipython3",
   "version": "3.8.12"
  }
 },
 "nbformat": 4,
 "nbformat_minor": 5
}
